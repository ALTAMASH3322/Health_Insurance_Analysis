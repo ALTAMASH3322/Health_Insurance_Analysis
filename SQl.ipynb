{
 "cells": [
  {
   "cell_type": "code",
   "execution_count": 24,
   "id": "0d4730c1-18dd-490b-bee7-96971c344415",
   "metadata": {},
   "outputs": [],
   "source": [
    "import pandas as pd\n",
    "import sqlite3"
   ]
  },
  {
   "cell_type": "code",
   "execution_count": 25,
   "id": "11116065-89d0-46f5-87e6-6ec5f28ab49e",
   "metadata": {},
   "outputs": [
    {
     "data": {
      "text/html": [
       "<div>\n",
       "<style scoped>\n",
       "    .dataframe tbody tr th:only-of-type {\n",
       "        vertical-align: middle;\n",
       "    }\n",
       "\n",
       "    .dataframe tbody tr th {\n",
       "        vertical-align: top;\n",
       "    }\n",
       "\n",
       "    .dataframe thead th {\n",
       "        text-align: right;\n",
       "    }\n",
       "</style>\n",
       "<table border=\"1\" class=\"dataframe\">\n",
       "  <thead>\n",
       "    <tr style=\"text-align: right;\">\n",
       "      <th></th>\n",
       "      <th>Customer ID</th>\n",
       "      <th>year</th>\n",
       "      <th>month</th>\n",
       "      <th>date</th>\n",
       "      <th>children</th>\n",
       "      <th>charges</th>\n",
       "      <th>Hospital tier</th>\n",
       "      <th>City tier</th>\n",
       "      <th>State ID</th>\n",
       "    </tr>\n",
       "  </thead>\n",
       "  <tbody>\n",
       "    <tr>\n",
       "      <th>0</th>\n",
       "      <td>Id2335</td>\n",
       "      <td>1992</td>\n",
       "      <td>Jul</td>\n",
       "      <td>9</td>\n",
       "      <td>0</td>\n",
       "      <td>563.84</td>\n",
       "      <td>tier - 2</td>\n",
       "      <td>tier - 3</td>\n",
       "      <td>R1013</td>\n",
       "    </tr>\n",
       "    <tr>\n",
       "      <th>1</th>\n",
       "      <td>Id2334</td>\n",
       "      <td>1992</td>\n",
       "      <td>Nov</td>\n",
       "      <td>30</td>\n",
       "      <td>0</td>\n",
       "      <td>570.62</td>\n",
       "      <td>tier - 2</td>\n",
       "      <td>tier - 1</td>\n",
       "      <td>R1013</td>\n",
       "    </tr>\n",
       "    <tr>\n",
       "      <th>2</th>\n",
       "      <td>Id2333</td>\n",
       "      <td>1993</td>\n",
       "      <td>Jun</td>\n",
       "      <td>30</td>\n",
       "      <td>0</td>\n",
       "      <td>600.00</td>\n",
       "      <td>tier - 2</td>\n",
       "      <td>tier - 1</td>\n",
       "      <td>R1013</td>\n",
       "    </tr>\n",
       "    <tr>\n",
       "      <th>3</th>\n",
       "      <td>Id2332</td>\n",
       "      <td>1992</td>\n",
       "      <td>Sep</td>\n",
       "      <td>13</td>\n",
       "      <td>0</td>\n",
       "      <td>604.54</td>\n",
       "      <td>tier - 3</td>\n",
       "      <td>tier - 3</td>\n",
       "      <td>R1013</td>\n",
       "    </tr>\n",
       "    <tr>\n",
       "      <th>4</th>\n",
       "      <td>Id2331</td>\n",
       "      <td>1998</td>\n",
       "      <td>Jul</td>\n",
       "      <td>27</td>\n",
       "      <td>0</td>\n",
       "      <td>637.26</td>\n",
       "      <td>tier - 3</td>\n",
       "      <td>tier - 3</td>\n",
       "      <td>R1013</td>\n",
       "    </tr>\n",
       "  </tbody>\n",
       "</table>\n",
       "</div>"
      ],
      "text/plain": [
       "  Customer ID  year month  date  children  charges Hospital tier City tier  \\\n",
       "0      Id2335  1992   Jul     9         0   563.84      tier - 2  tier - 3   \n",
       "1      Id2334  1992   Nov    30         0   570.62      tier - 2  tier - 1   \n",
       "2      Id2333  1993   Jun    30         0   600.00      tier - 2  tier - 1   \n",
       "3      Id2332  1992   Sep    13         0   604.54      tier - 3  tier - 3   \n",
       "4      Id2331  1998   Jul    27         0   637.26      tier - 3  tier - 3   \n",
       "\n",
       "  State ID  \n",
       "0    R1013  \n",
       "1    R1013  \n",
       "2    R1013  \n",
       "3    R1013  \n",
       "4    R1013  "
      ]
     },
     "execution_count": 25,
     "metadata": {},
     "output_type": "execute_result"
    }
   ],
   "source": [
    "# Step 1: Read data from CSV and Excel files\n",
    "\n",
    "df1 = pd.read_csv(\"C:/Users/LENOVO/Documents/jupyternotebook/Hospitalisation details.csv\")\n",
    "df2 = pd.read_csv(\"Medical Examinations.csv\")\n",
    "df3 = pd.read_excel(\"C:/Users/LENOVO/Documents/jupyternotebook/Names.xlsx\")\n",
    "df1.head()"
   ]
  },
  {
   "cell_type": "code",
   "execution_count": 26,
   "id": "a1a4ec38-ee67-4e4b-b1fd-6ddf00c796a5",
   "metadata": {},
   "outputs": [
    {
     "data": {
      "text/html": [
       "<div>\n",
       "<style scoped>\n",
       "    .dataframe tbody tr th:only-of-type {\n",
       "        vertical-align: middle;\n",
       "    }\n",
       "\n",
       "    .dataframe tbody tr th {\n",
       "        vertical-align: top;\n",
       "    }\n",
       "\n",
       "    .dataframe thead th {\n",
       "        text-align: right;\n",
       "    }\n",
       "</style>\n",
       "<table border=\"1\" class=\"dataframe\">\n",
       "  <thead>\n",
       "    <tr style=\"text-align: right;\">\n",
       "      <th></th>\n",
       "      <th>Customer ID</th>\n",
       "      <th>BMI</th>\n",
       "      <th>HBA1C</th>\n",
       "      <th>Heart Issues</th>\n",
       "      <th>Any Transplants</th>\n",
       "      <th>Cancer history</th>\n",
       "      <th>NumberOfMajorSurgeries</th>\n",
       "      <th>smoker</th>\n",
       "    </tr>\n",
       "  </thead>\n",
       "  <tbody>\n",
       "    <tr>\n",
       "      <th>0</th>\n",
       "      <td>Id1</td>\n",
       "      <td>47.410</td>\n",
       "      <td>7.47</td>\n",
       "      <td>No</td>\n",
       "      <td>No</td>\n",
       "      <td>No</td>\n",
       "      <td>No major surgery</td>\n",
       "      <td>yes</td>\n",
       "    </tr>\n",
       "    <tr>\n",
       "      <th>1</th>\n",
       "      <td>Id2</td>\n",
       "      <td>30.360</td>\n",
       "      <td>5.77</td>\n",
       "      <td>No</td>\n",
       "      <td>No</td>\n",
       "      <td>No</td>\n",
       "      <td>No major surgery</td>\n",
       "      <td>yes</td>\n",
       "    </tr>\n",
       "    <tr>\n",
       "      <th>2</th>\n",
       "      <td>Id3</td>\n",
       "      <td>34.485</td>\n",
       "      <td>11.87</td>\n",
       "      <td>yes</td>\n",
       "      <td>No</td>\n",
       "      <td>No</td>\n",
       "      <td>2</td>\n",
       "      <td>yes</td>\n",
       "    </tr>\n",
       "    <tr>\n",
       "      <th>3</th>\n",
       "      <td>Id4</td>\n",
       "      <td>38.095</td>\n",
       "      <td>6.05</td>\n",
       "      <td>No</td>\n",
       "      <td>No</td>\n",
       "      <td>No</td>\n",
       "      <td>No major surgery</td>\n",
       "      <td>yes</td>\n",
       "    </tr>\n",
       "    <tr>\n",
       "      <th>4</th>\n",
       "      <td>Id5</td>\n",
       "      <td>35.530</td>\n",
       "      <td>5.45</td>\n",
       "      <td>No</td>\n",
       "      <td>No</td>\n",
       "      <td>No</td>\n",
       "      <td>No major surgery</td>\n",
       "      <td>yes</td>\n",
       "    </tr>\n",
       "  </tbody>\n",
       "</table>\n",
       "</div>"
      ],
      "text/plain": [
       "  Customer ID     BMI  HBA1C Heart Issues Any Transplants Cancer history  \\\n",
       "0         Id1  47.410   7.47           No              No             No   \n",
       "1         Id2  30.360   5.77           No              No             No   \n",
       "2         Id3  34.485  11.87          yes              No             No   \n",
       "3         Id4  38.095   6.05           No              No             No   \n",
       "4         Id5  35.530   5.45           No              No             No   \n",
       "\n",
       "  NumberOfMajorSurgeries smoker  \n",
       "0       No major surgery    yes  \n",
       "1       No major surgery    yes  \n",
       "2                      2    yes  \n",
       "3       No major surgery    yes  \n",
       "4       No major surgery    yes  "
      ]
     },
     "execution_count": 26,
     "metadata": {},
     "output_type": "execute_result"
    }
   ],
   "source": [
    "df2.head()"
   ]
  },
  {
   "cell_type": "code",
   "execution_count": 27,
   "id": "54dd9a88-00a3-4c4f-bd9e-c935dcdff430",
   "metadata": {},
   "outputs": [
    {
     "data": {
      "text/html": [
       "<div>\n",
       "<style scoped>\n",
       "    .dataframe tbody tr th:only-of-type {\n",
       "        vertical-align: middle;\n",
       "    }\n",
       "\n",
       "    .dataframe tbody tr th {\n",
       "        vertical-align: top;\n",
       "    }\n",
       "\n",
       "    .dataframe thead th {\n",
       "        text-align: right;\n",
       "    }\n",
       "</style>\n",
       "<table border=\"1\" class=\"dataframe\">\n",
       "  <thead>\n",
       "    <tr style=\"text-align: right;\">\n",
       "      <th></th>\n",
       "      <th>Customer ID</th>\n",
       "      <th>BMI</th>\n",
       "      <th>HBA1C</th>\n",
       "      <th>Heart Issues</th>\n",
       "      <th>Any Transplants</th>\n",
       "      <th>Cancer history</th>\n",
       "      <th>NumberOfMajorSurgeries</th>\n",
       "      <th>smoker</th>\n",
       "    </tr>\n",
       "  </thead>\n",
       "  <tbody>\n",
       "    <tr>\n",
       "      <th>0</th>\n",
       "      <td>Id1</td>\n",
       "      <td>47.410</td>\n",
       "      <td>7.47</td>\n",
       "      <td>No</td>\n",
       "      <td>No</td>\n",
       "      <td>No</td>\n",
       "      <td>0.0</td>\n",
       "      <td>yes</td>\n",
       "    </tr>\n",
       "    <tr>\n",
       "      <th>1</th>\n",
       "      <td>Id2</td>\n",
       "      <td>30.360</td>\n",
       "      <td>5.77</td>\n",
       "      <td>No</td>\n",
       "      <td>No</td>\n",
       "      <td>No</td>\n",
       "      <td>0.0</td>\n",
       "      <td>yes</td>\n",
       "    </tr>\n",
       "    <tr>\n",
       "      <th>2</th>\n",
       "      <td>Id3</td>\n",
       "      <td>34.485</td>\n",
       "      <td>11.87</td>\n",
       "      <td>yes</td>\n",
       "      <td>No</td>\n",
       "      <td>No</td>\n",
       "      <td>2.0</td>\n",
       "      <td>yes</td>\n",
       "    </tr>\n",
       "    <tr>\n",
       "      <th>3</th>\n",
       "      <td>Id4</td>\n",
       "      <td>38.095</td>\n",
       "      <td>6.05</td>\n",
       "      <td>No</td>\n",
       "      <td>No</td>\n",
       "      <td>No</td>\n",
       "      <td>0.0</td>\n",
       "      <td>yes</td>\n",
       "    </tr>\n",
       "    <tr>\n",
       "      <th>4</th>\n",
       "      <td>Id5</td>\n",
       "      <td>35.530</td>\n",
       "      <td>5.45</td>\n",
       "      <td>No</td>\n",
       "      <td>No</td>\n",
       "      <td>No</td>\n",
       "      <td>0.0</td>\n",
       "      <td>yes</td>\n",
       "    </tr>\n",
       "  </tbody>\n",
       "</table>\n",
       "</div>"
      ],
      "text/plain": [
       "  Customer ID     BMI  HBA1C Heart Issues Any Transplants Cancer history  \\\n",
       "0         Id1  47.410   7.47           No              No             No   \n",
       "1         Id2  30.360   5.77           No              No             No   \n",
       "2         Id3  34.485  11.87          yes              No             No   \n",
       "3         Id4  38.095   6.05           No              No             No   \n",
       "4         Id5  35.530   5.45           No              No             No   \n",
       "\n",
       "   NumberOfMajorSurgeries smoker  \n",
       "0                     0.0    yes  \n",
       "1                     0.0    yes  \n",
       "2                     2.0    yes  \n",
       "3                     0.0    yes  \n",
       "4                     0.0    yes  "
      ]
     },
     "execution_count": 27,
     "metadata": {},
     "output_type": "execute_result"
    }
   ],
   "source": [
    "df2['NumberOfMajorSurgeries'] = pd.to_numeric(df2['NumberOfMajorSurgeries'], errors='coerce')\n",
    "df2['NumberOfMajorSurgeries'].fillna(0, inplace=True)  # Assuming default 0 surgeries\n",
    "df2.head()"
   ]
  },
  {
   "cell_type": "code",
   "execution_count": 28,
   "id": "657d365e-b903-4ca3-b66b-da0aca61f7e1",
   "metadata": {},
   "outputs": [
    {
     "data": {
      "text/html": [
       "<div>\n",
       "<style scoped>\n",
       "    .dataframe tbody tr th:only-of-type {\n",
       "        vertical-align: middle;\n",
       "    }\n",
       "\n",
       "    .dataframe tbody tr th {\n",
       "        vertical-align: top;\n",
       "    }\n",
       "\n",
       "    .dataframe thead th {\n",
       "        text-align: right;\n",
       "    }\n",
       "</style>\n",
       "<table border=\"1\" class=\"dataframe\">\n",
       "  <thead>\n",
       "    <tr style=\"text-align: right;\">\n",
       "      <th></th>\n",
       "      <th>Customer ID</th>\n",
       "      <th>name</th>\n",
       "    </tr>\n",
       "  </thead>\n",
       "  <tbody>\n",
       "    <tr>\n",
       "      <th>0</th>\n",
       "      <td>Id1</td>\n",
       "      <td>Hawks, Ms.  Kelly</td>\n",
       "    </tr>\n",
       "    <tr>\n",
       "      <th>1</th>\n",
       "      <td>Id2</td>\n",
       "      <td>Lehner, Mr.  Matthew D</td>\n",
       "    </tr>\n",
       "    <tr>\n",
       "      <th>2</th>\n",
       "      <td>Id3</td>\n",
       "      <td>Lu, Mr.  Phil</td>\n",
       "    </tr>\n",
       "    <tr>\n",
       "      <th>3</th>\n",
       "      <td>Id4</td>\n",
       "      <td>Osborne, Ms.  Kelsey</td>\n",
       "    </tr>\n",
       "    <tr>\n",
       "      <th>4</th>\n",
       "      <td>Id5</td>\n",
       "      <td>Kadala, Ms.  Kristyn</td>\n",
       "    </tr>\n",
       "  </tbody>\n",
       "</table>\n",
       "</div>"
      ],
      "text/plain": [
       "  Customer ID                    name\n",
       "0         Id1       Hawks, Ms.  Kelly\n",
       "1         Id2  Lehner, Mr.  Matthew D\n",
       "2         Id3           Lu, Mr.  Phil\n",
       "3         Id4    Osborne, Ms.  Kelsey\n",
       "4         Id5    Kadala, Ms.  Kristyn"
      ]
     },
     "execution_count": 28,
     "metadata": {},
     "output_type": "execute_result"
    }
   ],
   "source": [
    "df3.head()"
   ]
  },
  {
   "cell_type": "code",
   "execution_count": 29,
   "id": "62653a73-d9af-4f46-b396-ed53b4d5d22c",
   "metadata": {},
   "outputs": [],
   "source": [
    "# Step 2: Clean data (remove duplicates and null values)\n",
    "df1.drop_duplicates(subset=['Customer ID'], inplace=True)\n",
    "df1.dropna(subset=['Customer ID'], inplace=True)\n",
    "df2.drop_duplicates(subset=['Customer ID'], inplace=True)\n",
    "df2.dropna(subset=['Customer ID'], inplace=True)\n",
    "df3.drop_duplicates(subset=['Customer ID'], inplace=True)\n",
    "df3.dropna(subset=['Customer ID'], inplace=True)"
   ]
  },
  {
   "cell_type": "code",
   "execution_count": 30,
   "id": "15664bea-64f3-416f-8d58-7f75512fb9ab",
   "metadata": {},
   "outputs": [
    {
     "data": {
      "text/plain": [
       "2335"
      ]
     },
     "execution_count": 30,
     "metadata": {},
     "output_type": "execute_result"
    }
   ],
   "source": [
    "conn = sqlite3.connect(':memory:')\n",
    "cursor = conn.cursor()\n",
    "\n",
    "df1.to_sql('Hospitalization', conn, index=False, if_exists='replace')\n",
    "df2.to_sql('Medical', conn, index=False, if_exists='replace')\n",
    "df3.to_sql('Names', conn, index=False, if_exists='replace')"
   ]
  },
  {
   "cell_type": "code",
   "execution_count": 31,
   "id": "448c2ecd-ab92-47e8-85ba-88ed742beb9d",
   "metadata": {},
   "outputs": [
    {
     "data": {
      "text/plain": [
       "<sqlite3.Cursor at 0x2226e9e3cc0>"
      ]
     },
     "execution_count": 31,
     "metadata": {},
     "output_type": "execute_result"
    }
   ],
   "source": [
    "cursor.execute('''\n",
    "CREATE TABLE hospitalizations_clean (\n",
    "    Customer_ID VARCHAR,\n",
    "    year INTEGER,\n",
    "    month VARCHAR,\n",
    "    date INTEGER,\n",
    "    children INTEGER,\n",
    "    charges REAL,\n",
    "    Hospital_tier VARCHAR,\n",
    "    City_tier VARCHAR,\n",
    "    State_ID VARCHAR,\n",
    "    PRIMARY KEY (Customer_ID)\n",
    ")\n",
    "''')"
   ]
  },
  {
   "cell_type": "code",
   "execution_count": 32,
   "id": "8d2f0e81-9d41-4bde-ac40-818c268f4190",
   "metadata": {},
   "outputs": [
    {
     "data": {
      "text/plain": [
       "<sqlite3.Cursor at 0x2226e9e3cc0>"
      ]
     },
     "execution_count": 32,
     "metadata": {},
     "output_type": "execute_result"
    }
   ],
   "source": [
    "cursor.execute('''\n",
    "INSERT INTO hospitalizations_clean\n",
    "SELECT * FROM Hospitalization\n",
    "''')"
   ]
  },
  {
   "cell_type": "code",
   "execution_count": 33,
   "id": "c35e4f45-074c-4a87-96cf-b8b48f5ac99b",
   "metadata": {},
   "outputs": [
    {
     "data": {
      "text/plain": [
       "<sqlite3.Cursor at 0x2226e9e3cc0>"
      ]
     },
     "execution_count": 33,
     "metadata": {},
     "output_type": "execute_result"
    }
   ],
   "source": [
    " #Create patients table with primary key\n",
    "cursor.execute('''\n",
    "CREATE TABLE Medical_clean (\n",
    "    Customer_ID VARCHAR,\n",
    "    BMI REAL,\n",
    "    HBA1C REAL,\n",
    "    Heart_Issues VARCHAR,\n",
    "    Any_Transplants VARCHAR,\n",
    "    Cancer_history VARCHAR,\n",
    "    NumberOfMajorSurgeries INTEGER,\n",
    "    smoker VARCHAR,\n",
    "    PRIMARY KEY (Customer_ID)\n",
    ")\n",
    "''')"
   ]
  },
  {
   "cell_type": "code",
   "execution_count": 34,
   "id": "f5622084-b15d-4476-b312-648fb63527b6",
   "metadata": {},
   "outputs": [
    {
     "data": {
      "text/plain": [
       "<sqlite3.Cursor at 0x2226e9e3cc0>"
      ]
     },
     "execution_count": 34,
     "metadata": {},
     "output_type": "execute_result"
    }
   ],
   "source": [
    "cursor.execute('''\n",
    "INSERT INTO Medical_clean\n",
    "SELECT * FROM Medical\n",
    "''')"
   ]
  },
  {
   "cell_type": "code",
   "execution_count": 35,
   "id": "1b84d9df-16d6-4df2-a19c-1f0e6091e425",
   "metadata": {},
   "outputs": [
    {
     "data": {
      "text/plain": [
       "<sqlite3.Cursor at 0x2226e9e3cc0>"
      ]
     },
     "execution_count": 35,
     "metadata": {},
     "output_type": "execute_result"
    }
   ],
   "source": [
    "cursor.execute('''\n",
    "CREATE TABLE Names_clean (\n",
    "    Customer_ID VARCHAR,\n",
    "    name VARCHAR,\n",
    "    PRIMARY KEY (Customer_ID)\n",
    ")\n",
    "''')"
   ]
  },
  {
   "cell_type": "code",
   "execution_count": 36,
   "id": "547911fb-2809-49e4-af98-b457f01a0615",
   "metadata": {},
   "outputs": [
    {
     "data": {
      "text/plain": [
       "<sqlite3.Cursor at 0x2226e9e3cc0>"
      ]
     },
     "execution_count": 36,
     "metadata": {},
     "output_type": "execute_result"
    }
   ],
   "source": [
    "cursor.execute('''\n",
    "INSERT INTO Names_clean\n",
    "SELECT * FROM Names\n",
    "''')"
   ]
  },
  {
   "cell_type": "code",
   "execution_count": 37,
   "id": "ddec9eb6-3d04-4467-81d3-c8a887eaf141",
   "metadata": {},
   "outputs": [],
   "source": [
    "query = '''\n",
    "SELECT \n",
    "    h.Customer_ID,\n",
    "    a.name,\n",
    "    p.BMI,\n",
    "    p.HBA1C,\n",
    "    p.Heart_Issues,\n",
    "    p.Any_Transplants,\n",
    "    p.Cancer_history,\n",
    "    p.NumberOfMajorSurgeries,\n",
    "    p.smoker,\n",
    "    h.year,\n",
    "    h.month,\n",
    "    h.date,\n",
    "    h.children,\n",
    "    h.charges,\n",
    "    h.Hospital_tier,\n",
    "    h.City_tier,\n",
    "    h.State_ID\n",
    "FROM \n",
    "    hospitalizations_clean h\n",
    "JOIN \n",
    "    Medical_clean p\n",
    "ON \n",
    "    h.Customer_ID = p.Customer_ID\n",
    "JOIN \n",
    "    Names_clean a\n",
    "ON \n",
    "    h.Customer_ID = a.Customer_ID\n",
    "'''\n",
    "\n",
    "merged_data = pd.read_sql_query(query, conn)"
   ]
  },
  {
   "cell_type": "code",
   "execution_count": 38,
   "id": "01ef3530-6323-481e-bc47-eb1d1b06b779",
   "metadata": {},
   "outputs": [
    {
     "name": "stdout",
     "output_type": "stream",
     "text": [
      "Merged Data:\n",
      "  Customer_ID                                name    BMI  HBA1C Heart_Issues  \\\n",
      "0      Id2335                German, Mr.  Aaron K  17.58   4.51           No   \n",
      "1      Id2334              Rosendahl, Mr.  Evan P  17.60   4.39           No   \n",
      "2      Id2333                  Albano, Ms.  Julie  16.47   6.35           No   \n",
      "3      Id2332  Riveros Gonzalez, Mr.  Juan D. Sr.  17.70   6.28           No   \n",
      "4      Id2331               Brietzke, Mr.  Jordan  22.34   5.57           No   \n",
      "\n",
      "  Any_Transplants Cancer_history  NumberOfMajorSurgeries smoker  year month  \\\n",
      "0              No             No                       1     No  1992   Jul   \n",
      "1              No             No                       1     No  1992   Nov   \n",
      "2              No            Yes                       1     No  1993   Jun   \n",
      "3              No             No                       1     No  1992   Sep   \n",
      "4              No             No                       1     No  1998   Jul   \n",
      "\n",
      "   date  children  charges Hospital_tier City_tier State_ID  \n",
      "0     9         0   563.84      tier - 2  tier - 3    R1013  \n",
      "1    30         0   570.62      tier - 2  tier - 1    R1013  \n",
      "2    30         0   600.00      tier - 2  tier - 1    R1013  \n",
      "3    13         0   604.54      tier - 3  tier - 3    R1013  \n",
      "4    27         0   637.26      tier - 3  tier - 3    R1013  \n"
     ]
    }
   ],
   "source": [
    "\n",
    "# Display the merged data\n",
    "print(\"Merged Data:\")\n",
    "print(merged_data.head())"
   ]
  },
  {
   "cell_type": "code",
   "execution_count": 39,
   "id": "bde04e47-5273-4b73-aa14-11975b1f8e2e",
   "metadata": {},
   "outputs": [
    {
     "name": "stdout",
     "output_type": "stream",
     "text": [
      "\n",
      "People who are diabetic and have heart problems:\n",
      "   average_age  average_children  average_BMI  average_hospitalization_cost\n",
      "0    63.398773          1.021472    31.337577                  16426.542577\n"
     ]
    }
   ],
   "source": [
    "# Query 1: Retrieve information about people who are diabetic and have heart problems\n",
    "query_diabetic_heart = '''\n",
    "SELECT \n",
    "    AVG(strftime('%Y', 'now') - h.year) AS average_age,\n",
    "    AVG(h.children) AS average_children,\n",
    "    AVG(p.BMI) AS average_BMI,\n",
    "    AVG(h.charges) AS average_hospitalization_cost\n",
    "FROM \n",
    "    hospitalizations_clean h\n",
    "JOIN \n",
    "    Medical_clean p\n",
    "ON \n",
    "    h.Customer_ID = p.Customer_ID\n",
    "WHERE \n",
    "    p.HBA1C > 6.5 AND p.Heart_Issues = 'yes'\n",
    "'''\n",
    "\n",
    "diabetic_heart_info = pd.read_sql_query(query_diabetic_heart, conn)\n",
    "print(\"\\nPeople who are diabetic and have heart problems:\")\n",
    "print(diabetic_heart_info)"
   ]
  },
  {
   "cell_type": "code",
   "execution_count": 40,
   "id": "c0902b49-8456-405b-80a3-aa1c71f7062d",
   "metadata": {},
   "outputs": [],
   "source": [
    "# Query 2: Find the average hospitalization cost for each hospital tier and each city level\n",
    "query_avg_costs = '''\n",
    "SELECT \n",
    "    h.Hospital_tier,\n",
    "    h.City_tier,\n",
    "    AVG(h.charges) AS average_hospitalization_cost\n",
    "FROM \n",
    "    hospitalizations_clean h\n",
    "GROUP BY \n",
    "    h.Hospital_tier, h.City_tier\n",
    "'''"
   ]
  },
  {
   "cell_type": "code",
   "execution_count": 44,
   "id": "24f1b927-8370-47ac-be58-f0bb55765787",
   "metadata": {},
   "outputs": [
    {
     "name": "stdout",
     "output_type": "stream",
     "text": [
      "\n",
      "Average hospitalization cost for each hospital tier and city level:\n",
      "   Hospital_tier City_tier  average_hospitalization_cost\n",
      "0              ?  tier - 3                    700.000000\n",
      "1       tier - 1  tier - 1                  29519.600814\n",
      "2       tier - 1  tier - 2                  28788.457477\n",
      "3       tier - 1  tier - 3                  31915.436786\n",
      "4       tier - 2  tier - 1                  11508.067079\n",
      "5       tier - 2  tier - 2                  11992.427083\n",
      "6       tier - 2  tier - 3                  12093.369163\n",
      "7       tier - 3         ?                    770.380000\n",
      "8       tier - 3  tier - 1                   9739.840905\n",
      "9       tier - 3  tier - 2                   9283.427477\n",
      "10      tier - 3  tier - 3                   9342.179912\n"
     ]
    }
   ],
   "source": [
    "avg_costs = pd.read_sql_query(query_avg_costs, conn)\n",
    "print(\"\\nAverage hospitalization cost for each hospital tier and city level:\")\n",
    "print(avg_costs)"
   ]
  },
  {
   "cell_type": "code",
   "execution_count": 42,
   "id": "70577632-f052-4a47-9a92-6704423fc0e6",
   "metadata": {},
   "outputs": [
    {
     "name": "stdout",
     "output_type": "stream",
     "text": [
      "\n",
      "Number of people who have had major surgery with a history of cancer:\n",
      "   num_people_major_surgery_with_cancer\n",
      "0                                     0\n"
     ]
    }
   ],
   "source": [
    "# Query 3: Determine the number of people who have had major surgery with a history of cancer\n",
    "query_major_surgery_cancer = '''\n",
    "SELECT \n",
    "    COUNT(*) AS num_people_major_surgery_with_cancer\n",
    "FROM \n",
    "    Medical_clean p\n",
    "WHERE \n",
    "    p.Cancer_history = 'yes' AND p.NumberOfMajorSurgeries > 0\n",
    "'''\n",
    "\n",
    "major_surgery_cancer_count = pd.read_sql_query(query_major_surgery_cancer, conn)\n",
    "print(\"\\nNumber of people who have had major surgery with a history of cancer:\")\n",
    "print(major_surgery_cancer_count)\n"
   ]
  },
  {
   "cell_type": "code",
   "execution_count": 45,
   "id": "7e8361db-0be1-4b7d-b7fa-1678f2f07cd6",
   "metadata": {},
   "outputs": [
    {
     "name": "stdout",
     "output_type": "stream",
     "text": [
      "\n",
      "Number of tier-1 hospitals in each state:\n",
      "   State_ID  num_tier1_hospitals\n",
      "0         ?                    2\n",
      "1     R1011                  116\n",
      "2     R1012                   63\n",
      "3     R1013                   68\n",
      "4     R1014                   10\n",
      "5     R1015                    2\n",
      "6     R1016                    8\n",
      "7     R1017                    7\n",
      "8     R1018                    1\n",
      "9     R1019                    5\n",
      "10    R1023                    4\n",
      "11    R1024                   14\n",
      "12    R1026                    5\n"
     ]
    }
   ],
   "source": [
    "query_tier1_hospitals = '''\n",
    "SELECT \n",
    "    h.State_ID,\n",
    "    COUNT(*) AS num_tier1_hospitals\n",
    "FROM \n",
    "    hospitalizations_clean h\n",
    "WHERE \n",
    "    h.Hospital_tier = \"tier - 1\"\n",
    "GROUP BY \n",
    "    h.State_ID\n",
    "'''\n",
    "\n",
    "tier1_hospitals_count = pd.read_sql_query(query_tier1_hospitals, conn)\n",
    "print(\"\\nNumber of tier-1 hospitals in each state:\")\n",
    "print(tier1_hospitals_count)\n",
    "\n"
   ]
  },
  {
   "cell_type": "code",
   "execution_count": 46,
   "id": "ceb99658-3758-47d0-8d85-3f2219720a43",
   "metadata": {},
   "outputs": [],
   "source": [
    "conn.close()"
   ]
  },
  {
   "cell_type": "code",
   "execution_count": null,
   "id": "5e11888a-f88a-4566-9ea9-32ec4269bc18",
   "metadata": {},
   "outputs": [],
   "source": []
  }
 ],
 "metadata": {
  "kernelspec": {
   "display_name": "Python 3 (ipykernel)",
   "language": "python",
   "name": "python3"
  },
  "language_info": {
   "codemirror_mode": {
    "name": "ipython",
    "version": 3
   },
   "file_extension": ".py",
   "mimetype": "text/x-python",
   "name": "python",
   "nbconvert_exporter": "python",
   "pygments_lexer": "ipython3",
   "version": "3.11.7"
  }
 },
 "nbformat": 4,
 "nbformat_minor": 5
}
